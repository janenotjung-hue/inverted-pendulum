{
 "cells": [
  {
   "cell_type": "code",
   "execution_count": 19,
   "metadata": {},
   "outputs": [],
   "source": [
    "import matplotlib.pyplot as plt\n",
    "import numpy as np\n",
    "import pandas as pd\n",
    "from sklearn.neural_network import MLPClassifier\n",
    "from setup import get_datasets, get_results\n",
    "from joblib import load\n",
    "\n",
    "X_trains, X_tests, y_trains, y_tests = get_datasets(None)\n",
    "mlp = load('xai_models/mlp_model.joblib')"
   ]
  },
  {
   "cell_type": "code",
   "execution_count": 26,
   "metadata": {},
   "outputs": [
    {
     "name": "stdout",
     "output_type": "stream",
     "text": [
      "          Test #   Accuracy  Sensitivity  Specificity\n",
      "count  18.000000  18.000000    18.000000    18.000000\n",
      "mean    8.500000   0.893836     0.997166     0.786376\n",
      "std     5.338539   0.137371     0.006135     0.288727\n",
      "min     0.000000   0.558333     0.978417     0.107744\n",
      "25%     4.250000   0.886667     0.996864     0.795772\n",
      "50%     8.500000   0.935833     1.000000     0.875100\n",
      "75%    12.750000   0.984583     1.000000     0.981345\n",
      "max    17.000000   0.998333     1.000000     1.000000\n"
     ]
    }
   ],
   "source": [
    "results = []\n",
    "for i in range(len(X_tests)): \n",
    "    mlp_predictions = mlp.predict(X_tests[i])\n",
    "    predictions_nominal = [ 0 if x < 0.5 else 1 for x in mlp_predictions]\n",
    "    cm, acc, sen, spe = get_results(predictions_nominal, y_tests[i])\n",
    "    \n",
    "    results.append([i, acc, sen, spe])\n",
    "    \n",
    "res = pd.DataFrame(data=results, columns=[\"Test #\", \"Accuracy\", \"Sensitivity\", \"Specificity\"])\n",
    "\n",
    "print(res.describe())"
   ]
  },
  {
   "cell_type": "code",
   "execution_count": null,
   "metadata": {},
   "outputs": [],
   "source": [
    "res.to_csv('mlp_scores.csv')"
   ]
  },
  {
   "cell_type": "code",
   "execution_count": 37,
   "metadata": {},
   "outputs": [
    {
     "name": "stdout",
     "output_type": "stream",
     "text": [
      "actual value:  0\n"
     ]
    },
    {
     "ename": "NameError",
     "evalue": "name 'reg' is not defined",
     "output_type": "error",
     "traceback": [
      "\u001b[1;31m---------------------------------------------------------------------------\u001b[0m",
      "\u001b[1;31mNameError\u001b[0m                                 Traceback (most recent call last)",
      "Cell \u001b[1;32mIn[37], line 16\u001b[0m\n\u001b[0;32m     13\u001b[0m \u001b[38;5;66;03m#RIGHT\u001b[39;00m\n\u001b[0;32m     14\u001b[0m \u001b[38;5;28mprint\u001b[39m(\u001b[38;5;124m\"\u001b[39m\u001b[38;5;124mactual value: \u001b[39m\u001b[38;5;124m\"\u001b[39m, y_test[\u001b[38;5;241m10\u001b[39m])\n\u001b[0;32m     15\u001b[0m exp_lime \u001b[38;5;241m=\u001b[39m explainer_lime\u001b[38;5;241m.\u001b[39mexplain_instance(\n\u001b[1;32m---> 16\u001b[0m     X_test[\u001b[38;5;241m10\u001b[39m], \u001b[43mreg\u001b[49m\u001b[38;5;241m.\u001b[39mpredict, num_features\u001b[38;5;241m=\u001b[39m\u001b[38;5;241m5\u001b[39m)\n\u001b[0;32m     17\u001b[0m exp_lime\u001b[38;5;241m.\u001b[39mshow_in_notebook()\n\u001b[0;32m     18\u001b[0m exp_lime\u001b[38;5;241m.\u001b[39mas_pyplot_figure()\n",
      "\u001b[1;31mNameError\u001b[0m: name 'reg' is not defined"
     ]
    }
   ],
   "source": [
    "\n",
    "features = X_trains[0].columns\n",
    "X_train = np.array(X_trains[0])\n",
    "X_test = np.array(X_tests[0])\n",
    "y_test = np.array(y_tests[0])\n",
    "\n",
    "from lime import lime_tabular\n",
    "explainer_lime = lime_tabular.LimeTabularExplainer(X_train,\n",
    "                                                   feature_names=features,\n",
    "                                                   class_names=[0,1],\n",
    "                                                   verbose=True, \n",
    "                                                   mode='regression')\n",
    "\n",
    "#RIGHT\n",
    "print(\"actual value: \", y_test[10])\n",
    "exp_lime = explainer_lime.explain_instance(\n",
    "    X_test[10], mlp.predict, num_features=5)\n",
    "exp_lime.show_in_notebook()\n",
    "exp_lime.as_pyplot_figure()\n",
    "\n",
    "#LEFT \n",
    "print(\"actual value: \", y_test[200])\n",
    "exp_lime = explainer_lime.explain_instance(\n",
    "    X_test[200], mlp.predict, num_features=5)\n",
    "exp_lime.show_in_notebook()\n",
    "exp_lime.as_pyplot_figure()\n"
   ]
  }
 ],
 "metadata": {
  "kernelspec": {
   "display_name": "Python 3",
   "language": "python",
   "name": "python3"
  },
  "language_info": {
   "codemirror_mode": {
    "name": "ipython",
    "version": 3
   },
   "file_extension": ".py",
   "mimetype": "text/x-python",
   "name": "python",
   "nbconvert_exporter": "python",
   "pygments_lexer": "ipython3",
   "version": "3.11.9"
  }
 },
 "nbformat": 4,
 "nbformat_minor": 2
}
